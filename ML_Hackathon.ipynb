{
  "nbformat": 4,
  "nbformat_minor": 0,
  "metadata": {
    "colab": {
      "name": "ML_Hackathon",
      "provenance": [],
      "collapsed_sections": [],
      "toc_visible": true,
      "mount_file_id": "1wvyHg0Z2C9c-FHuMUV2WI7EzSva5wBlC",
      "authorship_tag": "ABX9TyMfZfq+puwerbVsPxa83dEs",
      "include_colab_link": true
    },
    "kernelspec": {
      "display_name": "Python 3",
      "name": "python3"
    }
  },
  "cells": [
    {
      "cell_type": "markdown",
      "metadata": {
        "id": "view-in-github",
        "colab_type": "text"
      },
      "source": [
        "<a href=\"https://colab.research.google.com/github/KomalSingh2/ML_Hackathon/blob/main/ML_Hackathon.ipynb\" target=\"_parent\"><img src=\"https://colab.research.google.com/assets/colab-badge.svg\" alt=\"Open In Colab\"/></a>"
      ]
    },
    {
      "cell_type": "code",
      "metadata": {
        "id": "e_n5FwYd041u"
      },
      "source": [
        "import numpy as np\r\n",
        "import pandas as pd\r\n",
        "import matplotlib.pyplot as plt\r\n",
        "import seaborn as sns"
      ],
      "execution_count": null,
      "outputs": []
    },
    {
      "cell_type": "code",
      "metadata": {
        "colab": {
          "base_uri": "https://localhost:8080/",
          "height": 326
        },
        "id": "EYjqV2sm1SAH",
        "outputId": "83e36a77-9d02-4596-a052-f90d22bdb0e1"
      },
      "source": [
        "df = pd.read_excel(\"/content/drive/MyDrive/childbirth.xlsx\")\r\n",
        "df.head()"
      ],
      "execution_count": null,
      "outputs": [
        {
          "output_type": "execute_result",
          "data": {
            "text/html": [
              "<div>\n",
              "<style scoped>\n",
              "    .dataframe tbody tr th:only-of-type {\n",
              "        vertical-align: middle;\n",
              "    }\n",
              "\n",
              "    .dataframe tbody tr th {\n",
              "        vertical-align: top;\n",
              "    }\n",
              "\n",
              "    .dataframe thead th {\n",
              "        text-align: right;\n",
              "    }\n",
              "</style>\n",
              "<table border=\"1\" class=\"dataframe\">\n",
              "  <thead>\n",
              "    <tr style=\"text-align: right;\">\n",
              "      <th></th>\n",
              "      <th>BabyId</th>\n",
              "      <th>FirsttimeParent</th>\n",
              "      <th>Crying date</th>\n",
              "      <th>Crying time</th>\n",
              "      <th>Crying seconds</th>\n",
              "      <th>Feeding date</th>\n",
              "      <th>Feeding time</th>\n",
              "      <th>Bottle amount</th>\n",
              "      <th>PumpingDate</th>\n",
              "      <th>PumpingTimePumpingLeftPumpingRight</th>\n",
              "      <th>Pumping Left</th>\n",
              "      <th>PumpingRight</th>\n",
              "      <th>SleepingDate</th>\n",
              "      <th>SleepingTime</th>\n",
              "      <th>SleepingSecond</th>\n",
              "    </tr>\n",
              "  </thead>\n",
              "  <tbody>\n",
              "    <tr>\n",
              "      <th>0</th>\n",
              "      <td>HPT2_NR_16</td>\n",
              "      <td>1</td>\n",
              "      <td>2015-08-05</td>\n",
              "      <td>20:31:47</td>\n",
              "      <td>900.0</td>\n",
              "      <td>2015-08-05</td>\n",
              "      <td>20:31:47</td>\n",
              "      <td>180.0</td>\n",
              "      <td>2015-08-05</td>\n",
              "      <td>20:31:47</td>\n",
              "      <td>40.0</td>\n",
              "      <td>30.0</td>\n",
              "      <td>2015-08-05</td>\n",
              "      <td>20:31:47</td>\n",
              "      <td>5153.979043</td>\n",
              "    </tr>\n",
              "    <tr>\n",
              "      <th>1</th>\n",
              "      <td>HPT2_NR_16</td>\n",
              "      <td>1</td>\n",
              "      <td>2015-08-05</td>\n",
              "      <td>23:33:46</td>\n",
              "      <td>600.0</td>\n",
              "      <td>2015-08-05</td>\n",
              "      <td>23:33:46</td>\n",
              "      <td>180.0</td>\n",
              "      <td>2015-08-05</td>\n",
              "      <td>23:33:46</td>\n",
              "      <td>50.0</td>\n",
              "      <td>35.0</td>\n",
              "      <td>2015-08-05</td>\n",
              "      <td>23:33:46</td>\n",
              "      <td>33365.111960</td>\n",
              "    </tr>\n",
              "    <tr>\n",
              "      <th>2</th>\n",
              "      <td>HPT2_NR_16</td>\n",
              "      <td>1</td>\n",
              "      <td>2015-08-06</td>\n",
              "      <td>10:20:00</td>\n",
              "      <td>916.0</td>\n",
              "      <td>2015-08-06</td>\n",
              "      <td>10:20:00</td>\n",
              "      <td>180.0</td>\n",
              "      <td>2015-08-06</td>\n",
              "      <td>10:20:00</td>\n",
              "      <td>NaN</td>\n",
              "      <td>NaN</td>\n",
              "      <td>2015-08-06</td>\n",
              "      <td>10:20:00</td>\n",
              "      <td>2100.000000</td>\n",
              "    </tr>\n",
              "    <tr>\n",
              "      <th>3</th>\n",
              "      <td>HPT2_NR_16</td>\n",
              "      <td>1</td>\n",
              "      <td>2015-08-06</td>\n",
              "      <td>11:30:00</td>\n",
              "      <td>300.0</td>\n",
              "      <td>2015-08-06</td>\n",
              "      <td>11:30:00</td>\n",
              "      <td>35.0</td>\n",
              "      <td>2015-08-06</td>\n",
              "      <td>11:30:00</td>\n",
              "      <td>NaN</td>\n",
              "      <td>NaN</td>\n",
              "      <td>2015-08-06</td>\n",
              "      <td>11:30:00</td>\n",
              "      <td>1200.000000</td>\n",
              "    </tr>\n",
              "    <tr>\n",
              "      <th>4</th>\n",
              "      <td>HPT2_NR_16</td>\n",
              "      <td>1</td>\n",
              "      <td>2015-08-06</td>\n",
              "      <td>12:15:00</td>\n",
              "      <td>600.0</td>\n",
              "      <td>2015-08-06</td>\n",
              "      <td>12:15:00</td>\n",
              "      <td>180.0</td>\n",
              "      <td>2015-08-06</td>\n",
              "      <td>12:15:00</td>\n",
              "      <td>NaN</td>\n",
              "      <td>NaN</td>\n",
              "      <td>2015-08-06</td>\n",
              "      <td>12:15:00</td>\n",
              "      <td>4800.000000</td>\n",
              "    </tr>\n",
              "  </tbody>\n",
              "</table>\n",
              "</div>"
            ],
            "text/plain": [
              "       BabyId  FirsttimeParent  ... SleepingTime SleepingSecond\n",
              "0  HPT2_NR_16                1  ...     20:31:47    5153.979043\n",
              "1  HPT2_NR_16                1  ...     23:33:46   33365.111960\n",
              "2  HPT2_NR_16                1  ...     10:20:00    2100.000000\n",
              "3  HPT2_NR_16                1  ...     11:30:00    1200.000000\n",
              "4  HPT2_NR_16                1  ...     12:15:00    4800.000000\n",
              "\n",
              "[5 rows x 15 columns]"
            ]
          },
          "metadata": {
            "tags": []
          },
          "execution_count": 2
        }
      ]
    },
    {
      "cell_type": "code",
      "metadata": {
        "id": "n60ReFzx3fOT"
      },
      "source": [
        "df.to_csv(\"/content/drive/MyDrive/childbirth.csv\")"
      ],
      "execution_count": null,
      "outputs": []
    },
    {
      "cell_type": "code",
      "metadata": {
        "colab": {
          "base_uri": "https://localhost:8080/",
          "height": 326
        },
        "id": "VfEl47Tn4YzH",
        "outputId": "8328538a-456f-4e5e-9f71-9b99fc193a17"
      },
      "source": [
        "df2 = pd.read_csv(\"/content/drive/MyDrive/childbirth.csv\")\r\n",
        "df2.head()"
      ],
      "execution_count": null,
      "outputs": [
        {
          "output_type": "execute_result",
          "data": {
            "text/html": [
              "<div>\n",
              "<style scoped>\n",
              "    .dataframe tbody tr th:only-of-type {\n",
              "        vertical-align: middle;\n",
              "    }\n",
              "\n",
              "    .dataframe tbody tr th {\n",
              "        vertical-align: top;\n",
              "    }\n",
              "\n",
              "    .dataframe thead th {\n",
              "        text-align: right;\n",
              "    }\n",
              "</style>\n",
              "<table border=\"1\" class=\"dataframe\">\n",
              "  <thead>\n",
              "    <tr style=\"text-align: right;\">\n",
              "      <th></th>\n",
              "      <th>Unnamed: 0</th>\n",
              "      <th>BabyId</th>\n",
              "      <th>FirsttimeParent</th>\n",
              "      <th>Crying date</th>\n",
              "      <th>Crying time</th>\n",
              "      <th>Crying seconds</th>\n",
              "      <th>Feeding date</th>\n",
              "      <th>Feeding time</th>\n",
              "      <th>Bottle amount</th>\n",
              "      <th>PumpingDate</th>\n",
              "      <th>PumpingTimePumpingLeftPumpingRight</th>\n",
              "      <th>Pumping Left</th>\n",
              "      <th>PumpingRight</th>\n",
              "      <th>SleepingDate</th>\n",
              "      <th>SleepingTime</th>\n",
              "      <th>SleepingSecond</th>\n",
              "    </tr>\n",
              "  </thead>\n",
              "  <tbody>\n",
              "    <tr>\n",
              "      <th>0</th>\n",
              "      <td>0</td>\n",
              "      <td>HPT2_NR_16</td>\n",
              "      <td>1</td>\n",
              "      <td>2015-08-05</td>\n",
              "      <td>20:31:47</td>\n",
              "      <td>900.0</td>\n",
              "      <td>2015-08-05</td>\n",
              "      <td>20:31:47</td>\n",
              "      <td>180.0</td>\n",
              "      <td>2015-08-05</td>\n",
              "      <td>20:31:47</td>\n",
              "      <td>40.0</td>\n",
              "      <td>30.0</td>\n",
              "      <td>2015-08-05</td>\n",
              "      <td>20:31:47</td>\n",
              "      <td>5153.979043</td>\n",
              "    </tr>\n",
              "    <tr>\n",
              "      <th>1</th>\n",
              "      <td>1</td>\n",
              "      <td>HPT2_NR_16</td>\n",
              "      <td>1</td>\n",
              "      <td>2015-08-05</td>\n",
              "      <td>23:33:46</td>\n",
              "      <td>600.0</td>\n",
              "      <td>2015-08-05</td>\n",
              "      <td>23:33:46</td>\n",
              "      <td>180.0</td>\n",
              "      <td>2015-08-05</td>\n",
              "      <td>23:33:46</td>\n",
              "      <td>50.0</td>\n",
              "      <td>35.0</td>\n",
              "      <td>2015-08-05</td>\n",
              "      <td>23:33:46</td>\n",
              "      <td>33365.111960</td>\n",
              "    </tr>\n",
              "    <tr>\n",
              "      <th>2</th>\n",
              "      <td>2</td>\n",
              "      <td>HPT2_NR_16</td>\n",
              "      <td>1</td>\n",
              "      <td>2015-08-06</td>\n",
              "      <td>10:20:00</td>\n",
              "      <td>916.0</td>\n",
              "      <td>2015-08-06</td>\n",
              "      <td>10:20:00</td>\n",
              "      <td>180.0</td>\n",
              "      <td>2015-08-06</td>\n",
              "      <td>10:20:00</td>\n",
              "      <td>NaN</td>\n",
              "      <td>NaN</td>\n",
              "      <td>2015-08-06</td>\n",
              "      <td>10:20:00</td>\n",
              "      <td>2100.000000</td>\n",
              "    </tr>\n",
              "    <tr>\n",
              "      <th>3</th>\n",
              "      <td>3</td>\n",
              "      <td>HPT2_NR_16</td>\n",
              "      <td>1</td>\n",
              "      <td>2015-08-06</td>\n",
              "      <td>11:30:00</td>\n",
              "      <td>300.0</td>\n",
              "      <td>2015-08-06</td>\n",
              "      <td>11:30:00</td>\n",
              "      <td>35.0</td>\n",
              "      <td>2015-08-06</td>\n",
              "      <td>11:30:00</td>\n",
              "      <td>NaN</td>\n",
              "      <td>NaN</td>\n",
              "      <td>2015-08-06</td>\n",
              "      <td>11:30:00</td>\n",
              "      <td>1200.000000</td>\n",
              "    </tr>\n",
              "    <tr>\n",
              "      <th>4</th>\n",
              "      <td>4</td>\n",
              "      <td>HPT2_NR_16</td>\n",
              "      <td>1</td>\n",
              "      <td>2015-08-06</td>\n",
              "      <td>12:15:00</td>\n",
              "      <td>600.0</td>\n",
              "      <td>2015-08-06</td>\n",
              "      <td>12:15:00</td>\n",
              "      <td>180.0</td>\n",
              "      <td>2015-08-06</td>\n",
              "      <td>12:15:00</td>\n",
              "      <td>NaN</td>\n",
              "      <td>NaN</td>\n",
              "      <td>2015-08-06</td>\n",
              "      <td>12:15:00</td>\n",
              "      <td>4800.000000</td>\n",
              "    </tr>\n",
              "  </tbody>\n",
              "</table>\n",
              "</div>"
            ],
            "text/plain": [
              "   Unnamed: 0      BabyId  ...  SleepingTime SleepingSecond\n",
              "0           0  HPT2_NR_16  ...      20:31:47    5153.979043\n",
              "1           1  HPT2_NR_16  ...      23:33:46   33365.111960\n",
              "2           2  HPT2_NR_16  ...      10:20:00    2100.000000\n",
              "3           3  HPT2_NR_16  ...      11:30:00    1200.000000\n",
              "4           4  HPT2_NR_16  ...      12:15:00    4800.000000\n",
              "\n",
              "[5 rows x 16 columns]"
            ]
          },
          "metadata": {
            "tags": []
          },
          "execution_count": 5
        }
      ]
    },
    {
      "cell_type": "code",
      "metadata": {
        "colab": {
          "base_uri": "https://localhost:8080/"
        },
        "id": "nEd7l-bk4uPl",
        "outputId": "0eff88d1-5d96-41e8-aa88-922cbdc701de"
      },
      "source": [
        "df2.isnull().sum()"
      ],
      "execution_count": null,
      "outputs": [
        {
          "output_type": "execute_result",
          "data": {
            "text/plain": [
              "Unnamed: 0                               0\n",
              "BabyId                                   0\n",
              "FirsttimeParent                          0\n",
              "Crying date                              0\n",
              "Crying time                              0\n",
              "Crying seconds                        1700\n",
              "Feeding date                             0\n",
              "Feeding time                             0\n",
              "Bottle amount                          729\n",
              "PumpingDate                              0\n",
              "PumpingTimePumpingLeftPumpingRight       0\n",
              "Pumping Left                          1712\n",
              "PumpingRight                          1705\n",
              "SleepingDate                             0\n",
              "SleepingTime                             0\n",
              "SleepingSecond                         777\n",
              "dtype: int64"
            ]
          },
          "metadata": {
            "tags": []
          },
          "execution_count": 6
        }
      ]
    },
    {
      "cell_type": "code",
      "metadata": {
        "colab": {
          "base_uri": "https://localhost:8080/"
        },
        "id": "C0J2GxJC41bW",
        "outputId": "40e9c72b-9114-416f-cfe7-4b82e4a6ffc3"
      },
      "source": [
        "df2.isnull().sum().sum()"
      ],
      "execution_count": null,
      "outputs": [
        {
          "output_type": "execute_result",
          "data": {
            "text/plain": [
              "6623"
            ]
          },
          "metadata": {
            "tags": []
          },
          "execution_count": 7
        }
      ]
    },
    {
      "cell_type": "code",
      "metadata": {
        "colab": {
          "base_uri": "https://localhost:8080/"
        },
        "id": "RKyPZYml498g",
        "outputId": "e579d344-d168-4e24-a8dc-eceda1924ed9"
      },
      "source": [
        "df2.info()"
      ],
      "execution_count": null,
      "outputs": [
        {
          "output_type": "stream",
          "text": [
            "<class 'pandas.core.frame.DataFrame'>\n",
            "RangeIndex: 1773 entries, 0 to 1772\n",
            "Data columns (total 16 columns):\n",
            " #   Column                              Non-Null Count  Dtype  \n",
            "---  ------                              --------------  -----  \n",
            " 0   Unnamed: 0                          1773 non-null   int64  \n",
            " 1   BabyId                              1773 non-null   object \n",
            " 2   FirsttimeParent                     1773 non-null   int64  \n",
            " 3   Crying date                         1773 non-null   object \n",
            " 4   Crying time                         1773 non-null   object \n",
            " 5   Crying seconds                      73 non-null     float64\n",
            " 6   Feeding date                        1773 non-null   object \n",
            " 7   Feeding time                        1773 non-null   object \n",
            " 8   Bottle amount                       1044 non-null   float64\n",
            " 9   PumpingDate                         1773 non-null   object \n",
            " 10  PumpingTimePumpingLeftPumpingRight  1773 non-null   object \n",
            " 11  Pumping Left                        61 non-null     float64\n",
            " 12  PumpingRight                        68 non-null     float64\n",
            " 13  SleepingDate                        1773 non-null   object \n",
            " 14  SleepingTime                        1773 non-null   object \n",
            " 15  SleepingSecond                      996 non-null    float64\n",
            "dtypes: float64(5), int64(2), object(9)\n",
            "memory usage: 221.8+ KB\n"
          ],
          "name": "stdout"
        }
      ]
    },
    {
      "cell_type": "code",
      "metadata": {
        "colab": {
          "base_uri": "https://localhost:8080/"
        },
        "id": "n4iy3noN6-0J",
        "outputId": "715cea8c-2f10-4a5e-fe95-aff63ffdb743"
      },
      "source": [
        "df2.columns"
      ],
      "execution_count": null,
      "outputs": [
        {
          "output_type": "execute_result",
          "data": {
            "text/plain": [
              "Index(['Unnamed: 0', 'BabyId', 'FirsttimeParent', 'Crying date', 'Crying time',\n",
              "       'Crying seconds', 'Feeding date', 'Feeding time', 'Bottle amount',\n",
              "       'PumpingDate', 'PumpingTimePumpingLeftPumpingRight', 'Pumping Left',\n",
              "       'PumpingRight', 'SleepingDate', 'SleepingTime', 'SleepingSecond'],\n",
              "      dtype='object')"
            ]
          },
          "metadata": {
            "tags": []
          },
          "execution_count": 9
        }
      ]
    },
    {
      "cell_type": "code",
      "metadata": {
        "colab": {
          "base_uri": "https://localhost:8080/",
          "height": 477
        },
        "id": "Vz5izpfu5VT0",
        "outputId": "ce6d1e17-36ca-4d45-d32f-7fd3026b8b60"
      },
      "source": [
        "sns.heatmap(df2.isnull())"
      ],
      "execution_count": null,
      "outputs": [
        {
          "output_type": "execute_result",
          "data": {
            "text/plain": [
              "<matplotlib.axes._subplots.AxesSubplot at 0x7f703deecf60>"
            ]
          },
          "metadata": {
            "tags": []
          },
          "execution_count": 10
        },
        {
          "output_type": "display_data",
          "data": {
            "image/png": "[encoded data removed]",
            "text/plain": [
              "<Figure size 432x288 with 2 Axes>"
            ]
          },
          "metadata": {
            "tags": [],
            "needs_background": "light"
          }
        }
      ]
    },
    {
      "cell_type": "code",
      "metadata": {
        "colab": {
          "base_uri": "https://localhost:8080/"
        },
        "id": "QcLA3Fwjpb6q",
        "outputId": "bb7602b5-7748-4b19-b9de-910a10c2fc1d"
      },
      "source": [
        "cat_col = [i for i in df2.columns if df2[i].dtypes=='O']\r\n",
        "num_col = [i for i in df2.columns if df2[i].dtypes!='O']\r\n",
        "cat_col"
      ],
      "execution_count": null,
      "outputs": [
        {
          "output_type": "execute_result",
          "data": {
            "text/plain": [
              "['BabyId',\n",
              " 'Crying date',\n",
              " 'Crying time',\n",
              " 'Feeding date',\n",
              " 'Feeding time',\n",
              " 'PumpingDate',\n",
              " 'PumpingTimePumpingLeftPumpingRight',\n",
              " 'SleepingDate',\n",
              " 'SleepingTime']"
            ]
          },
          "metadata": {
            "tags": []
          },
          "execution_count": 51
        }
      ]
    },
    {
      "cell_type": "code",
      "metadata": {
        "colab": {
          "base_uri": "https://localhost:8080/"
        },
        "id": "cTjLfxjF9BwG",
        "outputId": "9ad63db6-5d61-4bb8-e862-7c7eff2f6c1d"
      },
      "source": [
        "df2['Crying seconds'].mean()"
      ],
      "execution_count": null,
      "outputs": [
        {
          "output_type": "execute_result",
          "data": {
            "text/plain": [
              "1457.206745958904"
            ]
          },
          "metadata": {
            "tags": []
          },
          "execution_count": 11
        }
      ]
    },
    {
      "cell_type": "code",
      "metadata": {
        "id": "urxy5JXY70jo"
      },
      "source": [
        "df2['Crying seconds'].fillna(1457.206745958904,axis=0,inplace=True)"
      ],
      "execution_count": null,
      "outputs": []
    },
    {
      "cell_type": "code",
      "metadata": {
        "colab": {
          "base_uri": "https://localhost:8080/"
        },
        "id": "QNrZj2GG9Ygl",
        "outputId": "785bdb4e-787f-4335-f243-b746d30400a8"
      },
      "source": [
        "df2['Bottle amount'].mean()"
      ],
      "execution_count": null,
      "outputs": [
        {
          "output_type": "execute_result",
          "data": {
            "text/plain": [
              "127.20306513409962"
            ]
          },
          "metadata": {
            "tags": []
          },
          "execution_count": 13
        }
      ]
    },
    {
      "cell_type": "code",
      "metadata": {
        "id": "H5hTVMpV9fTQ"
      },
      "source": [
        "df2['Bottle amount'].fillna(127.20306513409962,axis=0,inplace=True)"
      ],
      "execution_count": null,
      "outputs": []
    },
    {
      "cell_type": "code",
      "metadata": {
        "colab": {
          "base_uri": "https://localhost:8080/"
        },
        "id": "Kg8HSshE9y6s",
        "outputId": "b0f7f05d-84f0-4b59-bc6a-dd3ac3474446"
      },
      "source": [
        "df2['Pumping Left'].mean()"
      ],
      "execution_count": null,
      "outputs": [
        {
          "output_type": "execute_result",
          "data": {
            "text/plain": [
              "48.36065573770492"
            ]
          },
          "metadata": {
            "tags": []
          },
          "execution_count": 15
        }
      ]
    },
    {
      "cell_type": "code",
      "metadata": {
        "colab": {
          "base_uri": "https://localhost:8080/"
        },
        "id": "uOfbBHmE-BI9",
        "outputId": "517ce430-d1a3-435e-d300-1edba740f5cf"
      },
      "source": [
        "df2['PumpingRight'].mean()"
      ],
      "execution_count": null,
      "outputs": [
        {
          "output_type": "execute_result",
          "data": {
            "text/plain": [
              "38.01470588235294"
            ]
          },
          "metadata": {
            "tags": []
          },
          "execution_count": 16
        }
      ]
    },
    {
      "cell_type": "code",
      "metadata": {
        "id": "-N77-kbp-G4o"
      },
      "source": [
        "df2['Pumping Left'].fillna(48.36065573770492,axis=0,inplace=True)\r\n",
        "df2['PumpingRight'].fillna(38.01470588235294,axis=0,inplace=True)"
      ],
      "execution_count": null,
      "outputs": []
    },
    {
      "cell_type": "code",
      "metadata": {
        "colab": {
          "base_uri": "https://localhost:8080/"
        },
        "id": "ih61j4a--jP_",
        "outputId": "1d826d01-42d4-4860-f742-eb34047e9a46"
      },
      "source": [
        "df2['SleepingSecond'].mean()"
      ],
      "execution_count": null,
      "outputs": [
        {
          "output_type": "execute_result",
          "data": {
            "text/plain": [
              "9896.331302312252"
            ]
          },
          "metadata": {
            "tags": []
          },
          "execution_count": 18
        }
      ]
    },
    {
      "cell_type": "code",
      "metadata": {
        "id": "AqO7ILVF-okj"
      },
      "source": [
        "df2['SleepingSecond'].fillna(9896.331302312252,axis=0,inplace=True)"
      ],
      "execution_count": null,
      "outputs": []
    },
    {
      "cell_type": "code",
      "metadata": {
        "colab": {
          "base_uri": "https://localhost:8080/"
        },
        "id": "oPRYu3r--3Cp",
        "outputId": "7641fcd6-409b-437c-e3bf-efed595a39f4"
      },
      "source": [
        "df2.isnull().sum()"
      ],
      "execution_count": null,
      "outputs": [
        {
          "output_type": "execute_result",
          "data": {
            "text/plain": [
              "Unnamed: 0                            0\n",
              "BabyId                                0\n",
              "FirsttimeParent                       0\n",
              "Crying date                           0\n",
              "Crying time                           0\n",
              "Crying seconds                        0\n",
              "Feeding date                          0\n",
              "Feeding time                          0\n",
              "Bottle amount                         0\n",
              "PumpingDate                           0\n",
              "PumpingTimePumpingLeftPumpingRight    0\n",
              "Pumping Left                          0\n",
              "PumpingRight                          0\n",
              "SleepingDate                          0\n",
              "SleepingTime                          0\n",
              "SleepingSecond                        0\n",
              "Crying Year                           0\n",
              "Feeding Year                          0\n",
              "Pumping Year                          0\n",
              "Sleeping Year                         0\n",
              "Crying Month                          0\n",
              "Feeding Month                         0\n",
              "Pumping Month                         0\n",
              "Sleeping Month                        0\n",
              "Crying Hour                           0\n",
              "dtype: int64"
            ]
          },
          "metadata": {
            "tags": []
          },
          "execution_count": 53
        }
      ]
    },
    {
      "cell_type": "code",
      "metadata": {
        "colab": {
          "base_uri": "https://localhost:8080/",
          "height": 477
        },
        "id": "Ud2H9Ck3_c0o",
        "outputId": "66d5b6b1-9851-42d4-9a0b-d4df3d6ad46c"
      },
      "source": [
        "sns.heatmap(df2.isnull())"
      ],
      "execution_count": null,
      "outputs": [
        {
          "output_type": "execute_result",
          "data": {
            "text/plain": [
              "<matplotlib.axes._subplots.AxesSubplot at 0x7f703dd9f2e8>"
            ]
          },
          "metadata": {
            "tags": []
          },
          "execution_count": 21
        },
        {
          "output_type": "display_data",
          "data": {
            "image/png": "[encoded data removed]",
            "text/plain": [
              "<Figure size 432x288 with 2 Axes>"
            ]
          },
          "metadata": {
            "tags": [],
            "needs_background": "light"
          }
        }
      ]
    },
    {
      "cell_type": "code",
      "metadata": {
        "colab": {
          "base_uri": "https://localhost:8080/",
          "height": 297
        },
        "id": "h0wkzAfB_nli",
        "outputId": "1442a2da-7e50-4710-d684-715321b893d9"
      },
      "source": [
        "df2.describe()"
      ],
      "execution_count": null,
      "outputs": [
        {
          "output_type": "execute_result",
          "data": {
            "text/html": [
              "<div>\n",
              "<style scoped>\n",
              "    .dataframe tbody tr th:only-of-type {\n",
              "        vertical-align: middle;\n",
              "    }\n",
              "\n",
              "    .dataframe tbody tr th {\n",
              "        vertical-align: top;\n",
              "    }\n",
              "\n",
              "    .dataframe thead th {\n",
              "        text-align: right;\n",
              "    }\n",
              "</style>\n",
              "<table border=\"1\" class=\"dataframe\">\n",
              "  <thead>\n",
              "    <tr style=\"text-align: right;\">\n",
              "      <th></th>\n",
              "      <th>Unnamed: 0</th>\n",
              "      <th>FirsttimeParent</th>\n",
              "      <th>Crying seconds</th>\n",
              "      <th>Bottle amount</th>\n",
              "      <th>Pumping Left</th>\n",
              "      <th>PumpingRight</th>\n",
              "      <th>SleepingSecond</th>\n",
              "    </tr>\n",
              "  </thead>\n",
              "  <tbody>\n",
              "    <tr>\n",
              "      <th>count</th>\n",
              "      <td>1773.000000</td>\n",
              "      <td>1773.000000</td>\n",
              "      <td>1773.000000</td>\n",
              "      <td>1773.000000</td>\n",
              "      <td>1773.000000</td>\n",
              "      <td>1773.000000</td>\n",
              "      <td>1773.000000</td>\n",
              "    </tr>\n",
              "    <tr>\n",
              "      <th>mean</th>\n",
              "      <td>886.000000</td>\n",
              "      <td>0.840948</td>\n",
              "      <td>1457.206746</td>\n",
              "      <td>127.203065</td>\n",
              "      <td>48.360656</td>\n",
              "      <td>38.014706</td>\n",
              "      <td>9896.331302</td>\n",
              "    </tr>\n",
              "    <tr>\n",
              "      <th>std</th>\n",
              "      <td>511.965331</td>\n",
              "      <td>0.365828</td>\n",
              "      <td>415.045241</td>\n",
              "      <td>28.047172</td>\n",
              "      <td>7.838885</td>\n",
              "      <td>4.937932</td>\n",
              "      <td>6620.212164</td>\n",
              "    </tr>\n",
              "    <tr>\n",
              "      <th>min</th>\n",
              "      <td>0.000000</td>\n",
              "      <td>0.000000</td>\n",
              "      <td>25.000000</td>\n",
              "      <td>20.000000</td>\n",
              "      <td>0.000000</td>\n",
              "      <td>0.000000</td>\n",
              "      <td>114.492544</td>\n",
              "    </tr>\n",
              "    <tr>\n",
              "      <th>25%</th>\n",
              "      <td>443.000000</td>\n",
              "      <td>1.000000</td>\n",
              "      <td>1457.206746</td>\n",
              "      <td>120.000000</td>\n",
              "      <td>48.360656</td>\n",
              "      <td>38.014706</td>\n",
              "      <td>6600.000000</td>\n",
              "    </tr>\n",
              "    <tr>\n",
              "      <th>50%</th>\n",
              "      <td>886.000000</td>\n",
              "      <td>1.000000</td>\n",
              "      <td>1457.206746</td>\n",
              "      <td>127.203065</td>\n",
              "      <td>48.360656</td>\n",
              "      <td>38.014706</td>\n",
              "      <td>9896.331302</td>\n",
              "    </tr>\n",
              "    <tr>\n",
              "      <th>75%</th>\n",
              "      <td>1329.000000</td>\n",
              "      <td>1.000000</td>\n",
              "      <td>1457.206746</td>\n",
              "      <td>130.000000</td>\n",
              "      <td>48.360656</td>\n",
              "      <td>38.014706</td>\n",
              "      <td>9896.331302</td>\n",
              "    </tr>\n",
              "    <tr>\n",
              "      <th>max</th>\n",
              "      <td>1772.000000</td>\n",
              "      <td>1.000000</td>\n",
              "      <td>12600.000000</td>\n",
              "      <td>210.000000</td>\n",
              "      <td>190.000000</td>\n",
              "      <td>155.000000</td>\n",
              "      <td>45000.000000</td>\n",
              "    </tr>\n",
              "  </tbody>\n",
              "</table>\n",
              "</div>"
            ],
            "text/plain": [
              "        Unnamed: 0  FirsttimeParent  ...  PumpingRight  SleepingSecond\n",
              "count  1773.000000      1773.000000  ...   1773.000000     1773.000000\n",
              "mean    886.000000         0.840948  ...     38.014706     9896.331302\n",
              "std     511.965331         0.365828  ...      4.937932     6620.212164\n",
              "min       0.000000         0.000000  ...      0.000000      114.492544\n",
              "25%     443.000000         1.000000  ...     38.014706     6600.000000\n",
              "50%     886.000000         1.000000  ...     38.014706     9896.331302\n",
              "75%    1329.000000         1.000000  ...     38.014706     9896.331302\n",
              "max    1772.000000         1.000000  ...    155.000000    45000.000000\n",
              "\n",
              "[8 rows x 7 columns]"
            ]
          },
          "metadata": {
            "tags": []
          },
          "execution_count": 22
        }
      ]
    },
    {
      "cell_type": "code",
      "metadata": {
        "colab": {
          "base_uri": "https://localhost:8080/",
          "height": 265
        },
        "id": "KPIJ698N_6C8",
        "outputId": "7a63923f-e426-4a41-daf6-b7bc3063812b"
      },
      "source": [
        "plt.boxplot(df2['FirsttimeParent'])\r\n",
        "plt.show()"
      ],
      "execution_count": null,
      "outputs": [
        {
          "output_type": "display_data",
          "data": {
            "image/png": "[encoded data removed]",
            "text/plain": [
              "<Figure size 432x288 with 1 Axes>"
            ]
          },
          "metadata": {
            "tags": [],
            "needs_background": "light"
          }
        }
      ]
    },
    {
      "cell_type": "code",
      "metadata": {
        "colab": {
          "base_uri": "https://localhost:8080/",
          "height": 265
        },
        "id": "mFvK4NIbCK4Z",
        "outputId": "fce26916-827a-42c4-f4c3-94ea3b628017"
      },
      "source": [
        "plt.boxplot(df2['Crying seconds'])\r\n",
        "plt.show()"
      ],
      "execution_count": null,
      "outputs": [
        {
          "output_type": "display_data",
          "data": {
            "image/png": "[encoded data removed]",
            "text/plain": [
              "<Figure size 432x288 with 1 Axes>"
            ]
          },
          "metadata": {
            "tags": [],
            "needs_background": "light"
          }
        }
      ]
    },
    {
      "cell_type": "code",
      "metadata": {
        "colab": {
          "base_uri": "https://localhost:8080/",
          "height": 265
        },
        "id": "MpT7Fye5C_dR",
        "outputId": "52f4fa11-b29d-4c19-81c3-6e21107922c3"
      },
      "source": [
        "plt.boxplot(df2['Bottle amount'])\r\n",
        "plt.show()"
      ],
      "execution_count": null,
      "outputs": [
        {
          "output_type": "display_data",
          "data": {
            "image/png": "[encoded data removed]",
            "text/plain": [
              "<Figure size 432x288 with 1 Axes>"
            ]
          },
          "metadata": {
            "tags": [],
            "needs_background": "light"
          }
        }
      ]
    },
    {
      "cell_type": "code",
      "metadata": {
        "colab": {
          "base_uri": "https://localhost:8080/",
          "height": 265
        },
        "id": "qPpm1-3fDJJn",
        "outputId": "b9a4d2a7-5283-4553-e564-097120c860fe"
      },
      "source": [
        "plt.boxplot(df2['Pumping Left'])\r\n",
        "plt.show()"
      ],
      "execution_count": null,
      "outputs": [
        {
          "output_type": "display_data",
          "data": {
            "image/png": "[encoded data removed]",
            "text/plain": [
              "<Figure size 432x288 with 1 Axes>"
            ]
          },
          "metadata": {
            "tags": [],
            "needs_background": "light"
          }
        }
      ]
    },
    {
      "cell_type": "code",
      "metadata": {
        "colab": {
          "base_uri": "https://localhost:8080/",
          "height": 266
        },
        "id": "QvbpuGAHDfvc",
        "outputId": "1f5a70eb-274b-41b1-a87c-6f24cb6a245a"
      },
      "source": [
        "plt.boxplot(df2['PumpingRight'])\r\n",
        "plt.show()"
      ],
      "execution_count": null,
      "outputs": [
        {
          "output_type": "display_data",
          "data": {
            "image/png": "[encoded data removed]",
            "text/plain": [
              "<Figure size 432x288 with 1 Axes>"
            ]
          },
          "metadata": {
            "tags": [],
            "needs_background": "light"
          }
        }
      ]
    },
    {
      "cell_type": "code",
      "metadata": {
        "colab": {
          "base_uri": "https://localhost:8080/",
          "height": 265
        },
        "id": "tjMWMCovDqBm",
        "outputId": "62a7ab90-3755-4d4c-a70e-7209d98ec65a"
      },
      "source": [
        "plt.boxplot(df2['SleepingSecond'])\r\n",
        "plt.show()"
      ],
      "execution_count": null,
      "outputs": [
        {
          "output_type": "display_data",
          "data": {
            "image/png": "[encoded data removed]",
            "text/plain": [
              "<Figure size 432x288 with 1 Axes>"
            ]
          },
          "metadata": {
            "tags": [],
            "needs_background": "light"
          }
        }
      ]
    },
    {
      "cell_type": "code",
      "metadata": {
        "colab": {
          "base_uri": "https://localhost:8080/",
          "height": 701
        },
        "id": "8OWCHZt6rhd9",
        "outputId": "78237c6c-a385-47e6-d950-82b81abe4426"
      },
      "source": [
        "df2.corr()"
      ],
      "execution_count": null,
      "outputs": [
        {
          "output_type": "execute_result",
          "data": {
            "text/html": [
              "<div>\n",
              "<style scoped>\n",
              "    .dataframe tbody tr th:only-of-type {\n",
              "        vertical-align: middle;\n",
              "    }\n",
              "\n",
              "    .dataframe tbody tr th {\n",
              "        vertical-align: top;\n",
              "    }\n",
              "\n",
              "    .dataframe thead th {\n",
              "        text-align: right;\n",
              "    }\n",
              "</style>\n",
              "<table border=\"1\" class=\"dataframe\">\n",
              "  <thead>\n",
              "    <tr style=\"text-align: right;\">\n",
              "      <th></th>\n",
              "      <th>Unnamed: 0</th>\n",
              "      <th>FirsttimeParent</th>\n",
              "      <th>Crying seconds</th>\n",
              "      <th>Bottle amount</th>\n",
              "      <th>Pumping Left</th>\n",
              "      <th>PumpingRight</th>\n",
              "      <th>SleepingSecond</th>\n",
              "      <th>Crying Year</th>\n",
              "      <th>Feeding Year</th>\n",
              "      <th>Pumping Year</th>\n",
              "      <th>Sleeping Year</th>\n",
              "      <th>Crying Month</th>\n",
              "      <th>Feeding Month</th>\n",
              "      <th>Pumping Month</th>\n",
              "      <th>Sleeping Month</th>\n",
              "      <th>Crying Hour</th>\n",
              "    </tr>\n",
              "  </thead>\n",
              "  <tbody>\n",
              "    <tr>\n",
              "      <th>Unnamed: 0</th>\n",
              "      <td>1.000000</td>\n",
              "      <td>-3.861031e-01</td>\n",
              "      <td>2.489243e-02</td>\n",
              "      <td>-0.103182</td>\n",
              "      <td>7.946474e-02</td>\n",
              "      <td>7.720871e-02</td>\n",
              "      <td>0.027889</td>\n",
              "      <td>NaN</td>\n",
              "      <td>NaN</td>\n",
              "      <td>NaN</td>\n",
              "      <td>NaN</td>\n",
              "      <td>-0.416017</td>\n",
              "      <td>-0.416017</td>\n",
              "      <td>-0.416017</td>\n",
              "      <td>-0.416017</td>\n",
              "      <td>-0.117537</td>\n",
              "    </tr>\n",
              "    <tr>\n",
              "      <th>FirsttimeParent</th>\n",
              "      <td>-0.386103</td>\n",
              "      <td>1.000000e+00</td>\n",
              "      <td>2.851600e-16</td>\n",
              "      <td>-0.033756</td>\n",
              "      <td>5.213927e-17</td>\n",
              "      <td>-4.647547e-16</td>\n",
              "      <td>-0.041060</td>\n",
              "      <td>NaN</td>\n",
              "      <td>NaN</td>\n",
              "      <td>NaN</td>\n",
              "      <td>NaN</td>\n",
              "      <td>0.186870</td>\n",
              "      <td>0.186870</td>\n",
              "      <td>0.186870</td>\n",
              "      <td>0.186870</td>\n",
              "      <td>-0.054111</td>\n",
              "    </tr>\n",
              "    <tr>\n",
              "      <th>Crying seconds</th>\n",
              "      <td>0.024892</td>\n",
              "      <td>2.851600e-16</td>\n",
              "      <td>1.000000e+00</td>\n",
              "      <td>-0.032959</td>\n",
              "      <td>3.370023e-03</td>\n",
              "      <td>6.300041e-03</td>\n",
              "      <td>0.000817</td>\n",
              "      <td>NaN</td>\n",
              "      <td>NaN</td>\n",
              "      <td>NaN</td>\n",
              "      <td>NaN</td>\n",
              "      <td>-0.032775</td>\n",
              "      <td>-0.032775</td>\n",
              "      <td>-0.032775</td>\n",
              "      <td>-0.032775</td>\n",
              "      <td>-0.000082</td>\n",
              "    </tr>\n",
              "    <tr>\n",
              "      <th>Bottle amount</th>\n",
              "      <td>-0.103182</td>\n",
              "      <td>-3.375603e-02</td>\n",
              "      <td>-3.295922e-02</td>\n",
              "      <td>1.000000</td>\n",
              "      <td>7.574675e-03</td>\n",
              "      <td>6.319644e-03</td>\n",
              "      <td>0.014314</td>\n",
              "      <td>NaN</td>\n",
              "      <td>NaN</td>\n",
              "      <td>NaN</td>\n",
              "      <td>NaN</td>\n",
              "      <td>-0.029331</td>\n",
              "      <td>-0.029331</td>\n",
              "      <td>-0.029331</td>\n",
              "      <td>-0.029331</td>\n",
              "      <td>0.018033</td>\n",
              "    </tr>\n",
              "    <tr>\n",
              "      <th>Pumping Left</th>\n",
              "      <td>0.079465</td>\n",
              "      <td>5.213927e-17</td>\n",
              "      <td>3.370023e-03</td>\n",
              "      <td>0.007575</td>\n",
              "      <td>1.000000e+00</td>\n",
              "      <td>1.627266e-01</td>\n",
              "      <td>-0.024328</td>\n",
              "      <td>NaN</td>\n",
              "      <td>NaN</td>\n",
              "      <td>NaN</td>\n",
              "      <td>NaN</td>\n",
              "      <td>-0.142022</td>\n",
              "      <td>-0.142022</td>\n",
              "      <td>-0.142022</td>\n",
              "      <td>-0.142022</td>\n",
              "      <td>0.021086</td>\n",
              "    </tr>\n",
              "    <tr>\n",
              "      <th>PumpingRight</th>\n",
              "      <td>0.077209</td>\n",
              "      <td>-4.647547e-16</td>\n",
              "      <td>6.300041e-03</td>\n",
              "      <td>0.006320</td>\n",
              "      <td>1.627266e-01</td>\n",
              "      <td>1.000000e+00</td>\n",
              "      <td>-0.027394</td>\n",
              "      <td>NaN</td>\n",
              "      <td>NaN</td>\n",
              "      <td>NaN</td>\n",
              "      <td>NaN</td>\n",
              "      <td>-0.062802</td>\n",
              "      <td>-0.062802</td>\n",
              "      <td>-0.062802</td>\n",
              "      <td>-0.062802</td>\n",
              "      <td>-0.008301</td>\n",
              "    </tr>\n",
              "    <tr>\n",
              "      <th>SleepingSecond</th>\n",
              "      <td>0.027889</td>\n",
              "      <td>-4.106037e-02</td>\n",
              "      <td>8.165373e-04</td>\n",
              "      <td>0.014314</td>\n",
              "      <td>-2.432788e-02</td>\n",
              "      <td>-2.739379e-02</td>\n",
              "      <td>1.000000</td>\n",
              "      <td>NaN</td>\n",
              "      <td>NaN</td>\n",
              "      <td>NaN</td>\n",
              "      <td>NaN</td>\n",
              "      <td>-0.018195</td>\n",
              "      <td>-0.018195</td>\n",
              "      <td>-0.018195</td>\n",
              "      <td>-0.018195</td>\n",
              "      <td>0.043790</td>\n",
              "    </tr>\n",
              "    <tr>\n",
              "      <th>Crying Year</th>\n",
              "      <td>NaN</td>\n",
              "      <td>NaN</td>\n",
              "      <td>NaN</td>\n",
              "      <td>NaN</td>\n",
              "      <td>NaN</td>\n",
              "      <td>NaN</td>\n",
              "      <td>NaN</td>\n",
              "      <td>NaN</td>\n",
              "      <td>NaN</td>\n",
              "      <td>NaN</td>\n",
              "      <td>NaN</td>\n",
              "      <td>NaN</td>\n",
              "      <td>NaN</td>\n",
              "      <td>NaN</td>\n",
              "      <td>NaN</td>\n",
              "      <td>NaN</td>\n",
              "    </tr>\n",
              "    <tr>\n",
              "      <th>Feeding Year</th>\n",
              "      <td>NaN</td>\n",
              "      <td>NaN</td>\n",
              "      <td>NaN</td>\n",
              "      <td>NaN</td>\n",
              "      <td>NaN</td>\n",
              "      <td>NaN</td>\n",
              "      <td>NaN</td>\n",
              "      <td>NaN</td>\n",
              "      <td>NaN</td>\n",
              "      <td>NaN</td>\n",
              "      <td>NaN</td>\n",
              "      <td>NaN</td>\n",
              "      <td>NaN</td>\n",
              "      <td>NaN</td>\n",
              "      <td>NaN</td>\n",
              "      <td>NaN</td>\n",
              "    </tr>\n",
              "    <tr>\n",
              "      <th>Pumping Year</th>\n",
              "      <td>NaN</td>\n",
              "      <td>NaN</td>\n",
              "      <td>NaN</td>\n",
              "      <td>NaN</td>\n",
              "      <td>NaN</td>\n",
              "      <td>NaN</td>\n",
              "      <td>NaN</td>\n",
              "      <td>NaN</td>\n",
              "      <td>NaN</td>\n",
              "      <td>NaN</td>\n",
              "      <td>NaN</td>\n",
              "      <td>NaN</td>\n",
              "      <td>NaN</td>\n",
              "      <td>NaN</td>\n",
              "      <td>NaN</td>\n",
              "      <td>NaN</td>\n",
              "    </tr>\n",
              "    <tr>\n",
              "      <th>Sleeping Year</th>\n",
              "      <td>NaN</td>\n",
              "      <td>NaN</td>\n",
              "      <td>NaN</td>\n",
              "      <td>NaN</td>\n",
              "      <td>NaN</td>\n",
              "      <td>NaN</td>\n",
              "      <td>NaN</td>\n",
              "      <td>NaN</td>\n",
              "      <td>NaN</td>\n",
              "      <td>NaN</td>\n",
              "      <td>NaN</td>\n",
              "      <td>NaN</td>\n",
              "      <td>NaN</td>\n",
              "      <td>NaN</td>\n",
              "      <td>NaN</td>\n",
              "      <td>NaN</td>\n",
              "    </tr>\n",
              "    <tr>\n",
              "      <th>Crying Month</th>\n",
              "      <td>-0.416017</td>\n",
              "      <td>1.868698e-01</td>\n",
              "      <td>-3.277512e-02</td>\n",
              "      <td>-0.029331</td>\n",
              "      <td>-1.420222e-01</td>\n",
              "      <td>-6.280199e-02</td>\n",
              "      <td>-0.018195</td>\n",
              "      <td>NaN</td>\n",
              "      <td>NaN</td>\n",
              "      <td>NaN</td>\n",
              "      <td>NaN</td>\n",
              "      <td>1.000000</td>\n",
              "      <td>1.000000</td>\n",
              "      <td>1.000000</td>\n",
              "      <td>1.000000</td>\n",
              "      <td>0.034638</td>\n",
              "    </tr>\n",
              "    <tr>\n",
              "      <th>Feeding Month</th>\n",
              "      <td>-0.416017</td>\n",
              "      <td>1.868698e-01</td>\n",
              "      <td>-3.277512e-02</td>\n",
              "      <td>-0.029331</td>\n",
              "      <td>-1.420222e-01</td>\n",
              "      <td>-6.280199e-02</td>\n",
              "      <td>-0.018195</td>\n",
              "      <td>NaN</td>\n",
              "      <td>NaN</td>\n",
              "      <td>NaN</td>\n",
              "      <td>NaN</td>\n",
              "      <td>1.000000</td>\n",
              "      <td>1.000000</td>\n",
              "      <td>1.000000</td>\n",
              "      <td>1.000000</td>\n",
              "      <td>0.034638</td>\n",
              "    </tr>\n",
              "    <tr>\n",
              "      <th>Pumping Month</th>\n",
              "      <td>-0.416017</td>\n",
              "      <td>1.868698e-01</td>\n",
              "      <td>-3.277512e-02</td>\n",
              "      <td>-0.029331</td>\n",
              "      <td>-1.420222e-01</td>\n",
              "      <td>-6.280199e-02</td>\n",
              "      <td>-0.018195</td>\n",
              "      <td>NaN</td>\n",
              "      <td>NaN</td>\n",
              "      <td>NaN</td>\n",
              "      <td>NaN</td>\n",
              "      <td>1.000000</td>\n",
              "      <td>1.000000</td>\n",
              "      <td>1.000000</td>\n",
              "      <td>1.000000</td>\n",
              "      <td>0.034638</td>\n",
              "    </tr>\n",
              "    <tr>\n",
              "      <th>Sleeping Month</th>\n",
              "      <td>-0.416017</td>\n",
              "      <td>1.868698e-01</td>\n",
              "      <td>-3.277512e-02</td>\n",
              "      <td>-0.029331</td>\n",
              "      <td>-1.420222e-01</td>\n",
              "      <td>-6.280199e-02</td>\n",
              "      <td>-0.018195</td>\n",
              "      <td>NaN</td>\n",
              "      <td>NaN</td>\n",
              "      <td>NaN</td>\n",
              "      <td>NaN</td>\n",
              "      <td>1.000000</td>\n",
              "      <td>1.000000</td>\n",
              "      <td>1.000000</td>\n",
              "      <td>1.000000</td>\n",
              "      <td>0.034638</td>\n",
              "    </tr>\n",
              "    <tr>\n",
              "      <th>Crying Hour</th>\n",
              "      <td>-0.117537</td>\n",
              "      <td>-5.411094e-02</td>\n",
              "      <td>-8.225198e-05</td>\n",
              "      <td>0.018033</td>\n",
              "      <td>2.108563e-02</td>\n",
              "      <td>-8.301186e-03</td>\n",
              "      <td>0.043790</td>\n",
              "      <td>NaN</td>\n",
              "      <td>NaN</td>\n",
              "      <td>NaN</td>\n",
              "      <td>NaN</td>\n",
              "      <td>0.034638</td>\n",
              "      <td>0.034638</td>\n",
              "      <td>0.034638</td>\n",
              "      <td>0.034638</td>\n",
              "      <td>1.000000</td>\n",
              "    </tr>\n",
              "  </tbody>\n",
              "</table>\n",
              "</div>"
            ],
            "text/plain": [
              "                 Unnamed: 0  FirsttimeParent  ...  Sleeping Month  Crying Hour\n",
              "Unnamed: 0         1.000000    -3.861031e-01  ...       -0.416017    -0.117537\n",
              "FirsttimeParent   -0.386103     1.000000e+00  ...        0.186870    -0.054111\n",
              "Crying seconds     0.024892     2.851600e-16  ...       -0.032775    -0.000082\n",
              "Bottle amount     -0.103182    -3.375603e-02  ...       -0.029331     0.018033\n",
              "Pumping Left       0.079465     5.213927e-17  ...       -0.142022     0.021086\n",
              "PumpingRight       0.077209    -4.647547e-16  ...       -0.062802    -0.008301\n",
              "SleepingSecond     0.027889    -4.106037e-02  ...       -0.018195     0.043790\n",
              "Crying Year             NaN              NaN  ...             NaN          NaN\n",
              "Feeding Year            NaN              NaN  ...             NaN          NaN\n",
              "Pumping Year            NaN              NaN  ...             NaN          NaN\n",
              "Sleeping Year           NaN              NaN  ...             NaN          NaN\n",
              "Crying Month      -0.416017     1.868698e-01  ...        1.000000     0.034638\n",
              "Feeding Month     -0.416017     1.868698e-01  ...        1.000000     0.034638\n",
              "Pumping Month     -0.416017     1.868698e-01  ...        1.000000     0.034638\n",
              "Sleeping Month    -0.416017     1.868698e-01  ...        1.000000     0.034638\n",
              "Crying Hour       -0.117537    -5.411094e-02  ...        0.034638     1.000000\n",
              "\n",
              "[16 rows x 16 columns]"
            ]
          },
          "metadata": {
            "tags": []
          },
          "execution_count": 54
        }
      ]
    },
    {
      "cell_type": "code",
      "metadata": {
        "colab": {
          "base_uri": "https://localhost:8080/",
          "height": 356
        },
        "id": "zMc4eXLFrwlF",
        "outputId": "6edbd403-c091-4c67-f7f0-e92e074ee2d2"
      },
      "source": [
        "sns.heatmap(df2.corr())"
      ],
      "execution_count": null,
      "outputs": [
        {
          "output_type": "execute_result",
          "data": {
            "text/plain": [
              "<matplotlib.axes._subplots.AxesSubplot at 0x7f7032426f28>"
            ]
          },
          "metadata": {
            "tags": []
          },
          "execution_count": 55
        },
        {
          "output_type": "display_data",
          "data": {
            "image/png": "[encoded data removed]",
            "text/plain": [
              "<Figure size 432x288 with 2 Axes>"
            ]
          },
          "metadata": {
            "tags": [],
            "needs_background": "light"
          }
        }
      ]
    },
    {
      "cell_type": "markdown",
      "metadata": {
        "id": "rhyDkOr3sMpc"
      },
      "source": [
        "#### No Correlation in Original Data."
      ]
    },
    {
      "cell_type": "markdown",
      "metadata": {
        "id": "i-pPyxPcD9ei"
      },
      "source": [
        "#### More Outliers in Sleeping second"
      ]
    },
    {
      "cell_type": "code",
      "metadata": {
        "colab": {
          "base_uri": "https://localhost:8080/"
        },
        "id": "b5GAyivzEFll",
        "outputId": "4efb01d0-a4f0-4fe2-887f-a9ba022135da"
      },
      "source": [
        "df2['FirsttimeParent'].value_counts()"
      ],
      "execution_count": null,
      "outputs": [
        {
          "output_type": "execute_result",
          "data": {
            "text/plain": [
              "1    1491\n",
              "0     282\n",
              "Name: FirsttimeParent, dtype: int64"
            ]
          },
          "metadata": {
            "tags": []
          },
          "execution_count": 30
        }
      ]
    },
    {
      "cell_type": "markdown",
      "metadata": {
        "id": "tKQ5OqxgFI61"
      },
      "source": [
        "#### Showing How Many First Time Parent or Not"
      ]
    },
    {
      "cell_type": "code",
      "metadata": {
        "colab": {
          "base_uri": "https://localhost:8080/",
          "height": 333
        },
        "id": "hIkNdUcRE4JO",
        "outputId": "3674295a-1251-4073-9f7f-6e1e355243fb"
      },
      "source": [
        "sns.countplot(df2['FirsttimeParent'])\r\n",
        "plt.show()"
      ],
      "execution_count": null,
      "outputs": [
        {
          "output_type": "stream",
          "text": [
            "/usr/local/lib/python3.6/dist-packages/seaborn/_decorators.py:43: FutureWarning: Pass the following variable as a keyword arg: x. From version 0.12, the only valid positional argument will be `data`, and passing other arguments without an explicit keyword will result in an error or misinterpretation.\n",
            "  FutureWarning\n"
          ],
          "name": "stderr"
        },
        {
          "output_type": "display_data",
          "data": {
            "image/png": "[encoded data removed]",
            "text/plain": [
              "<Figure size 432x288 with 1 Axes>"
            ]
          },
          "metadata": {
            "tags": [],
            "needs_background": "light"
          }
        }
      ]
    },
    {
      "cell_type": "code",
      "metadata": {
        "id": "mQNWmpZnF_zH"
      },
      "source": [
        "df2['Crying Year'] = pd.DatetimeIndex(df2['Crying date']).year\r\n",
        "df2['Feeding Year'] = pd.DatetimeIndex(df2['Feeding date']).year\r\n",
        "df2['Pumping Year'] = pd.DatetimeIndex(df2['PumpingDate']).year\r\n",
        "df2['Sleeping Year'] = pd.DatetimeIndex(df2['SleepingDate']).year\r\n",
        "df2['Crying Month'] = pd.DatetimeIndex(df2['Crying date']).month\r\n",
        "df2['Feeding Month'] = pd.DatetimeIndex(df2['Feeding date']).month\r\n",
        "df2['Pumping Month'] = pd.DatetimeIndex(df2['PumpingDate']).month\r\n",
        "df2['Sleeping Month'] = pd.DatetimeIndex(df2['SleepingDate']).month\r\n",
        "df2['Crying Hour'] = pd.DatetimeIndex(df2['Crying time']).hour\r\n"
      ],
      "execution_count": null,
      "outputs": []
    },
    {
      "cell_type": "code",
      "metadata": {
        "colab": {
          "base_uri": "https://localhost:8080/"
        },
        "id": "-LYqyR72H7Yl",
        "outputId": "791ea486-4e1d-4bdf-d5b2-acc66894ba76"
      },
      "source": [
        "df2.groupby('Feeding Month')['Bottle amount'].sum()"
      ],
      "execution_count": null,
      "outputs": [
        {
          "output_type": "execute_result",
          "data": {
            "text/plain": [
              "Feeding Month\n",
              "7     38200.057471\n",
              "8    186446.570881\n",
              "9       884.406130\n",
              "Name: Bottle amount, dtype: float64"
            ]
          },
          "metadata": {
            "tags": []
          },
          "execution_count": 33
        }
      ]
    },
    {
      "cell_type": "code",
      "metadata": {
        "colab": {
          "base_uri": "https://localhost:8080/",
          "height": 420
        },
        "id": "tk1Id8DZlHpH",
        "outputId": "79602876-22cf-4923-b31a-65d8ed4ec3a4"
      },
      "source": [
        "sns.barplot('Feeding Month','Bottle amount',data=df2)\r\n",
        "df2.groupby('Feeding Month')['Bottle amount'].sum()"
      ],
      "execution_count": null,
      "outputs": [
        {
          "output_type": "stream",
          "text": [
            "/usr/local/lib/python3.6/dist-packages/seaborn/_decorators.py:43: FutureWarning: Pass the following variables as keyword args: x, y. From version 0.12, the only valid positional argument will be `data`, and passing other arguments without an explicit keyword will result in an error or misinterpretation.\n",
            "  FutureWarning\n"
          ],
          "name": "stderr"
        },
        {
          "output_type": "execute_result",
          "data": {
            "text/plain": [
              "Feeding Month\n",
              "7     38200.057471\n",
              "8    186446.570881\n",
              "9       884.406130\n",
              "Name: Bottle amount, dtype: float64"
            ]
          },
          "metadata": {
            "tags": []
          },
          "execution_count": 36
        },
        {
          "output_type": "display_data",
          "data": {
            "image/png": "[encoded data removed]",
            "text/plain": [
              "<Figure size 432x288 with 1 Axes>"
            ]
          },
          "metadata": {
            "tags": [],
            "needs_background": "light"
          }
        }
      ]
    },
    {
      "cell_type": "markdown",
      "metadata": {
        "id": "X47UZkLXlpCO"
      },
      "source": [
        "#### MOre Amount feeded in 8th Month & Less Amount feeded in 9th Month"
      ]
    },
    {
      "cell_type": "code",
      "metadata": {
        "colab": {
          "base_uri": "https://localhost:8080/",
          "height": 418
        },
        "id": "-wYUI4Xhl3s_",
        "outputId": "c92c8430-1644-401e-9244-18dfcaf0c69d"
      },
      "source": [
        "sns.barplot('Crying Month','Crying Hour',data=df2)\r\n",
        "df2.groupby('Crying Month')['Crying Hour'].sum()"
      ],
      "execution_count": null,
      "outputs": [
        {
          "output_type": "stream",
          "text": [
            "/usr/local/lib/python3.6/dist-packages/seaborn/_decorators.py:43: FutureWarning: Pass the following variables as keyword args: x, y. From version 0.12, the only valid positional argument will be `data`, and passing other arguments without an explicit keyword will result in an error or misinterpretation.\n",
            "  FutureWarning\n"
          ],
          "name": "stderr"
        },
        {
          "output_type": "execute_result",
          "data": {
            "text/plain": [
              "Crying Month\n",
              "7     3722\n",
              "8    19325\n",
              "9       96\n",
              "Name: Crying Hour, dtype: int64"
            ]
          },
          "metadata": {
            "tags": []
          },
          "execution_count": 39
        },
        {
          "output_type": "display_data",
          "data": {
            "image/png": "[encoded data removed]",
            "text/plain": [
              "<Figure size 432x288 with 1 Axes>"
            ]
          },
          "metadata": {
            "tags": [],
            "needs_background": "light"
          }
        }
      ]
    },
    {
      "cell_type": "markdown",
      "metadata": {
        "id": "5nUTghHIm1wl"
      },
      "source": [
        "#### Child Crying More in 8th Month & less in 9th Month."
      ]
    },
    {
      "cell_type": "code",
      "metadata": {
        "colab": {
          "base_uri": "https://localhost:8080/",
          "height": 418
        },
        "id": "cfxjssmPnS37",
        "outputId": "32d8700a-96e8-4558-a65d-5027620ed680"
      },
      "source": [
        "sns.barplot('Pumping Month','Pumping Left',data=df2)\r\n",
        "df2.groupby('Pumping Month')['Pumping Left'].sum()"
      ],
      "execution_count": null,
      "outputs": [
        {
          "output_type": "stream",
          "text": [
            "/usr/local/lib/python3.6/dist-packages/seaborn/_decorators.py:43: FutureWarning: Pass the following variables as keyword args: x, y. From version 0.12, the only valid positional argument will be `data`, and passing other arguments without an explicit keyword will result in an error or misinterpretation.\n",
            "  FutureWarning\n"
          ],
          "name": "stderr"
        },
        {
          "output_type": "execute_result",
          "data": {
            "text/plain": [
              "Pumping Month\n",
              "7    15064.426230\n",
              "8    70340.491803\n",
              "9      338.524590\n",
              "Name: Pumping Left, dtype: float64"
            ]
          },
          "metadata": {
            "tags": []
          },
          "execution_count": 41
        },
        {
          "output_type": "display_data",
          "data": {
            "image/png": "[encoded data removed]",
            "text/plain": [
              "<Figure size 432x288 with 1 Axes>"
            ]
          },
          "metadata": {
            "tags": [],
            "needs_background": "light"
          }
        }
      ]
    },
    {
      "cell_type": "markdown",
      "metadata": {
        "id": "yhYRpCrbnrm8"
      },
      "source": [
        "#### Child Pumped Left Breast More in 8th Month & less in 9th Month."
      ]
    },
    {
      "cell_type": "code",
      "metadata": {
        "colab": {
          "base_uri": "https://localhost:8080/",
          "height": 418
        },
        "id": "AMf1ht03n8m6",
        "outputId": "8a115f6f-b503-4655-86df-8bfc84eaaf46"
      },
      "source": [
        "sns.barplot('Pumping Month','PumpingRight',data=df2)\r\n",
        "df2.groupby('Pumping Month')['PumpingRight'].sum()"
      ],
      "execution_count": null,
      "outputs": [
        {
          "output_type": "stream",
          "text": [
            "/usr/local/lib/python3.6/dist-packages/seaborn/_decorators.py:43: FutureWarning: Pass the following variables as keyword args: x, y. From version 0.12, the only valid positional argument will be `data`, and passing other arguments without an explicit keyword will result in an error or misinterpretation.\n",
            "  FutureWarning\n"
          ],
          "name": "stderr"
        },
        {
          "output_type": "execute_result",
          "data": {
            "text/plain": [
              "Pumping Month\n",
              "7    11461.176471\n",
              "8    55672.794118\n",
              "9      266.102941\n",
              "Name: PumpingRight, dtype: float64"
            ]
          },
          "metadata": {
            "tags": []
          },
          "execution_count": 42
        },
        {
          "output_type": "display_data",
          "data": {
            "image/png": "[encoded data removed]",
            "text/plain": [
              "<Figure size 432x288 with 1 Axes>"
            ]
          },
          "metadata": {
            "tags": [],
            "needs_background": "light"
          }
        }
      ]
    },
    {
      "cell_type": "markdown",
      "metadata": {
        "id": "nT1LZ-wEoD6J"
      },
      "source": [
        "#### Child Pumped Right Breast more in 8th Month & less in 9th Month."
      ]
    },
    {
      "cell_type": "code",
      "metadata": {
        "colab": {
          "base_uri": "https://localhost:8080/",
          "height": 221
        },
        "id": "1hsGaS4wwY1D",
        "outputId": "5788985d-8578-419b-95ba-0dc2090296ef"
      },
      "source": [
        "dff =pd.read_excel(\"/content/drive/MyDrive/birth.xlsx\")\r\n",
        "dff.to_csv(\"/content/drive/MyDrive/birth.csv\")\r\n",
        "dff2 = pd.read_csv(\"/content/drive/MyDrive/birth.csv\")\r\n",
        "print(\"Dataset with rows {} and columns {}\".format(dff2.shape[0],dff2.shape[1]))\r\n",
        "dff2.head()"
      ],
      "execution_count": null,
      "outputs": [
        {
          "output_type": "stream",
          "text": [
            "Dataset with rows 189 and columns 7\n"
          ],
          "name": "stdout"
        },
        {
          "output_type": "execute_result",
          "data": {
            "text/html": [
              "<div>\n",
              "<style scoped>\n",
              "    .dataframe tbody tr th:only-of-type {\n",
              "        vertical-align: middle;\n",
              "    }\n",
              "\n",
              "    .dataframe tbody tr th {\n",
              "        vertical-align: top;\n",
              "    }\n",
              "\n",
              "    .dataframe thead th {\n",
              "        text-align: right;\n",
              "    }\n",
              "</style>\n",
              "<table border=\"1\" class=\"dataframe\">\n",
              "  <thead>\n",
              "    <tr style=\"text-align: right;\">\n",
              "      <th></th>\n",
              "      <th>Unnamed: 0</th>\n",
              "      <th>Mom_weight</th>\n",
              "      <th>Mom_height</th>\n",
              "      <th>Mom_Age</th>\n",
              "      <th>Religion</th>\n",
              "      <th>Gender</th>\n",
              "      <th>Birth_Weight</th>\n",
              "    </tr>\n",
              "  </thead>\n",
              "  <tbody>\n",
              "    <tr>\n",
              "      <th>0</th>\n",
              "      <td>0</td>\n",
              "      <td>41</td>\n",
              "      <td>152</td>\n",
              "      <td>25</td>\n",
              "      <td>1</td>\n",
              "      <td>1</td>\n",
              "      <td>2.06</td>\n",
              "    </tr>\n",
              "    <tr>\n",
              "      <th>1</th>\n",
              "      <td>1</td>\n",
              "      <td>42</td>\n",
              "      <td>157</td>\n",
              "      <td>25</td>\n",
              "      <td>3</td>\n",
              "      <td>1</td>\n",
              "      <td>1.70</td>\n",
              "    </tr>\n",
              "    <tr>\n",
              "      <th>2</th>\n",
              "      <td>2</td>\n",
              "      <td>44</td>\n",
              "      <td>153</td>\n",
              "      <td>23</td>\n",
              "      <td>2</td>\n",
              "      <td>1</td>\n",
              "      <td>1.59</td>\n",
              "    </tr>\n",
              "    <tr>\n",
              "      <th>3</th>\n",
              "      <td>3</td>\n",
              "      <td>45</td>\n",
              "      <td>177</td>\n",
              "      <td>19</td>\n",
              "      <td>2</td>\n",
              "      <td>1</td>\n",
              "      <td>2.73</td>\n",
              "    </tr>\n",
              "    <tr>\n",
              "      <th>4</th>\n",
              "      <td>4</td>\n",
              "      <td>46</td>\n",
              "      <td>160</td>\n",
              "      <td>19</td>\n",
              "      <td>2</td>\n",
              "      <td>1</td>\n",
              "      <td>2.08</td>\n",
              "    </tr>\n",
              "  </tbody>\n",
              "</table>\n",
              "</div>"
            ],
            "text/plain": [
              "   Unnamed: 0  Mom_weight  Mom_height  Mom_Age  Religion  Gender  Birth_Weight\n",
              "0           0          41         152       25         1       1          2.06\n",
              "1           1          42         157       25         3       1          1.70\n",
              "2           2          44         153       23         2       1          1.59\n",
              "3           3          45         177       19         2       1          2.73\n",
              "4           4          46         160       19         2       1          2.08"
            ]
          },
          "metadata": {
            "tags": []
          },
          "execution_count": 72
        }
      ]
    },
    {
      "cell_type": "code",
      "metadata": {
        "colab": {
          "base_uri": "https://localhost:8080/"
        },
        "id": "XDi-RCffxZMV",
        "outputId": "557e02e7-6eb0-4347-859f-eedbbeeb73ea"
      },
      "source": [
        "dff2.isnull().sum()"
      ],
      "execution_count": null,
      "outputs": [
        {
          "output_type": "execute_result",
          "data": {
            "text/plain": [
              "Unnamed: 0      0\n",
              "Mom_weight      0\n",
              "Mom_height      0\n",
              "Mom_Age         0\n",
              "Religion        0\n",
              "Gender          0\n",
              "Birth_Weight    0\n",
              "dtype: int64"
            ]
          },
          "metadata": {
            "tags": []
          },
          "execution_count": 69
        }
      ]
    },
    {
      "cell_type": "code",
      "metadata": {
        "colab": {
          "base_uri": "https://localhost:8080/",
          "height": 297
        },
        "id": "E0lrmetMxgJ1",
        "outputId": "d11cda43-9eb2-4c5a-d8c2-f4c6d772f338"
      },
      "source": [
        "dff2.describe()"
      ],
      "execution_count": null,
      "outputs": [
        {
          "output_type": "execute_result",
          "data": {
            "text/html": [
              "<div>\n",
              "<style scoped>\n",
              "    .dataframe tbody tr th:only-of-type {\n",
              "        vertical-align: middle;\n",
              "    }\n",
              "\n",
              "    .dataframe tbody tr th {\n",
              "        vertical-align: top;\n",
              "    }\n",
              "\n",
              "    .dataframe thead th {\n",
              "        text-align: right;\n",
              "    }\n",
              "</style>\n",
              "<table border=\"1\" class=\"dataframe\">\n",
              "  <thead>\n",
              "    <tr style=\"text-align: right;\">\n",
              "      <th></th>\n",
              "      <th>Unnamed: 0</th>\n",
              "      <th>Mom_weight</th>\n",
              "      <th>Mom_height</th>\n",
              "      <th>Mom_Age</th>\n",
              "      <th>Religion</th>\n",
              "      <th>Gender</th>\n",
              "      <th>Birth_Weight</th>\n",
              "    </tr>\n",
              "  </thead>\n",
              "  <tbody>\n",
              "    <tr>\n",
              "      <th>count</th>\n",
              "      <td>189.000000</td>\n",
              "      <td>189.000000</td>\n",
              "      <td>189.000000</td>\n",
              "      <td>189.000000</td>\n",
              "      <td>189.000000</td>\n",
              "      <td>189.000000</td>\n",
              "      <td>189.000000</td>\n",
              "    </tr>\n",
              "    <tr>\n",
              "      <th>mean</th>\n",
              "      <td>94.000000</td>\n",
              "      <td>65.089947</td>\n",
              "      <td>172.026455</td>\n",
              "      <td>23.238095</td>\n",
              "      <td>1.793651</td>\n",
              "      <td>1.232804</td>\n",
              "      <td>2.936508</td>\n",
              "    </tr>\n",
              "    <tr>\n",
              "      <th>std</th>\n",
              "      <td>54.703748</td>\n",
              "      <td>9.966826</td>\n",
              "      <td>8.978363</td>\n",
              "      <td>5.298678</td>\n",
              "      <td>0.808704</td>\n",
              "      <td>0.423741</td>\n",
              "      <td>0.645921</td>\n",
              "    </tr>\n",
              "    <tr>\n",
              "      <th>min</th>\n",
              "      <td>0.000000</td>\n",
              "      <td>41.000000</td>\n",
              "      <td>151.000000</td>\n",
              "      <td>14.000000</td>\n",
              "      <td>1.000000</td>\n",
              "      <td>1.000000</td>\n",
              "      <td>1.500000</td>\n",
              "    </tr>\n",
              "    <tr>\n",
              "      <th>25%</th>\n",
              "      <td>47.000000</td>\n",
              "      <td>59.000000</td>\n",
              "      <td>166.000000</td>\n",
              "      <td>19.000000</td>\n",
              "      <td>1.000000</td>\n",
              "      <td>1.000000</td>\n",
              "      <td>2.440000</td>\n",
              "    </tr>\n",
              "    <tr>\n",
              "      <th>50%</th>\n",
              "      <td>94.000000</td>\n",
              "      <td>69.000000</td>\n",
              "      <td>174.000000</td>\n",
              "      <td>23.000000</td>\n",
              "      <td>2.000000</td>\n",
              "      <td>1.000000</td>\n",
              "      <td>2.980000</td>\n",
              "    </tr>\n",
              "    <tr>\n",
              "      <th>75%</th>\n",
              "      <td>141.000000</td>\n",
              "      <td>73.000000</td>\n",
              "      <td>178.000000</td>\n",
              "      <td>26.000000</td>\n",
              "      <td>2.000000</td>\n",
              "      <td>1.000000</td>\n",
              "      <td>3.440000</td>\n",
              "    </tr>\n",
              "    <tr>\n",
              "      <th>max</th>\n",
              "      <td>188.000000</td>\n",
              "      <td>79.000000</td>\n",
              "      <td>189.000000</td>\n",
              "      <td>45.000000</td>\n",
              "      <td>3.000000</td>\n",
              "      <td>2.000000</td>\n",
              "      <td>4.150000</td>\n",
              "    </tr>\n",
              "  </tbody>\n",
              "</table>\n",
              "</div>"
            ],
            "text/plain": [
              "       Unnamed: 0  Mom_weight  Mom_height  ...    Religion      Gender  Birth_Weight\n",
              "count  189.000000  189.000000  189.000000  ...  189.000000  189.000000    189.000000\n",
              "mean    94.000000   65.089947  172.026455  ...    1.793651    1.232804      2.936508\n",
              "std     54.703748    9.966826    8.978363  ...    0.808704    0.423741      0.645921\n",
              "min      0.000000   41.000000  151.000000  ...    1.000000    1.000000      1.500000\n",
              "25%     47.000000   59.000000  166.000000  ...    1.000000    1.000000      2.440000\n",
              "50%     94.000000   69.000000  174.000000  ...    2.000000    1.000000      2.980000\n",
              "75%    141.000000   73.000000  178.000000  ...    2.000000    1.000000      3.440000\n",
              "max    188.000000   79.000000  189.000000  ...    3.000000    2.000000      4.150000\n",
              "\n",
              "[8 rows x 7 columns]"
            ]
          },
          "metadata": {
            "tags": []
          },
          "execution_count": 70
        }
      ]
    },
    {
      "cell_type": "code",
      "metadata": {
        "colab": {
          "base_uri": "https://localhost:8080/",
          "height": 266
        },
        "id": "A0z11Ufly2dd",
        "outputId": "077f9db2-1d17-4a59-8c83-b6eed5525a9c"
      },
      "source": [
        "dff2.corr()"
      ],
      "execution_count": null,
      "outputs": [
        {
          "output_type": "execute_result",
          "data": {
            "text/html": [
              "<div>\n",
              "<style scoped>\n",
              "    .dataframe tbody tr th:only-of-type {\n",
              "        vertical-align: middle;\n",
              "    }\n",
              "\n",
              "    .dataframe tbody tr th {\n",
              "        vertical-align: top;\n",
              "    }\n",
              "\n",
              "    .dataframe thead th {\n",
              "        text-align: right;\n",
              "    }\n",
              "</style>\n",
              "<table border=\"1\" class=\"dataframe\">\n",
              "  <thead>\n",
              "    <tr style=\"text-align: right;\">\n",
              "      <th></th>\n",
              "      <th>Unnamed: 0</th>\n",
              "      <th>Mom_weight</th>\n",
              "      <th>Mom_height</th>\n",
              "      <th>Mom_Age</th>\n",
              "      <th>Religion</th>\n",
              "      <th>Gender</th>\n",
              "      <th>Birth_Weight</th>\n",
              "    </tr>\n",
              "  </thead>\n",
              "  <tbody>\n",
              "    <tr>\n",
              "      <th>Unnamed: 0</th>\n",
              "      <td>1.000000</td>\n",
              "      <td>0.213655</td>\n",
              "      <td>0.135050</td>\n",
              "      <td>0.019195</td>\n",
              "      <td>-0.008657</td>\n",
              "      <td>0.667985</td>\n",
              "      <td>0.134922</td>\n",
              "    </tr>\n",
              "    <tr>\n",
              "      <th>Mom_weight</th>\n",
              "      <td>0.213655</td>\n",
              "      <td>1.000000</td>\n",
              "      <td>0.537560</td>\n",
              "      <td>0.098097</td>\n",
              "      <td>0.072927</td>\n",
              "      <td>-0.429423</td>\n",
              "      <td>0.800121</td>\n",
              "    </tr>\n",
              "    <tr>\n",
              "      <th>Mom_height</th>\n",
              "      <td>0.135050</td>\n",
              "      <td>0.537560</td>\n",
              "      <td>1.000000</td>\n",
              "      <td>0.052864</td>\n",
              "      <td>-0.032210</td>\n",
              "      <td>-0.246298</td>\n",
              "      <td>0.643727</td>\n",
              "    </tr>\n",
              "    <tr>\n",
              "      <th>Mom_Age</th>\n",
              "      <td>0.019195</td>\n",
              "      <td>0.098097</td>\n",
              "      <td>0.052864</td>\n",
              "      <td>1.000000</td>\n",
              "      <td>-0.034402</td>\n",
              "      <td>-0.017711</td>\n",
              "      <td>0.062255</td>\n",
              "    </tr>\n",
              "    <tr>\n",
              "      <th>Religion</th>\n",
              "      <td>-0.008657</td>\n",
              "      <td>0.072927</td>\n",
              "      <td>-0.032210</td>\n",
              "      <td>-0.034402</td>\n",
              "      <td>1.000000</td>\n",
              "      <td>-0.091901</td>\n",
              "      <td>0.142091</td>\n",
              "    </tr>\n",
              "    <tr>\n",
              "      <th>Gender</th>\n",
              "      <td>0.667985</td>\n",
              "      <td>-0.429423</td>\n",
              "      <td>-0.246298</td>\n",
              "      <td>-0.017711</td>\n",
              "      <td>-0.091901</td>\n",
              "      <td>1.000000</td>\n",
              "      <td>-0.442052</td>\n",
              "    </tr>\n",
              "    <tr>\n",
              "      <th>Birth_Weight</th>\n",
              "      <td>0.134922</td>\n",
              "      <td>0.800121</td>\n",
              "      <td>0.643727</td>\n",
              "      <td>0.062255</td>\n",
              "      <td>0.142091</td>\n",
              "      <td>-0.442052</td>\n",
              "      <td>1.000000</td>\n",
              "    </tr>\n",
              "  </tbody>\n",
              "</table>\n",
              "</div>"
            ],
            "text/plain": [
              "              Unnamed: 0  Mom_weight  ...    Gender  Birth_Weight\n",
              "Unnamed: 0      1.000000    0.213655  ...  0.667985      0.134922\n",
              "Mom_weight      0.213655    1.000000  ... -0.429423      0.800121\n",
              "Mom_height      0.135050    0.537560  ... -0.246298      0.643727\n",
              "Mom_Age         0.019195    0.098097  ... -0.017711      0.062255\n",
              "Religion       -0.008657    0.072927  ... -0.091901      0.142091\n",
              "Gender          0.667985   -0.429423  ...  1.000000     -0.442052\n",
              "Birth_Weight    0.134922    0.800121  ... -0.442052      1.000000\n",
              "\n",
              "[7 rows x 7 columns]"
            ]
          },
          "metadata": {
            "tags": []
          },
          "execution_count": 73
        }
      ]
    },
    {
      "cell_type": "code",
      "metadata": {
        "colab": {
          "base_uri": "https://localhost:8080/",
          "height": 340
        },
        "id": "n4jBVeGSzEL-",
        "outputId": "a8e19b33-ceb3-4e0a-8415-e33d29ec9bca"
      },
      "source": [
        "sns.heatmap(dff2.corr(),square=True,annot=True,cmap= 'twilight_shifted')"
      ],
      "execution_count": null,
      "outputs": [
        {
          "output_type": "execute_result",
          "data": {
            "text/plain": [
              "<matplotlib.axes._subplots.AxesSubplot at 0x7f7031b17278>"
            ]
          },
          "metadata": {
            "tags": []
          },
          "execution_count": 74
        },
        {
          "output_type": "display_data",
          "data": {
            "image/png": "[encoded data removed]",
            "text/plain": [
              "<Figure size 432x288 with 2 Axes>"
            ]
          },
          "metadata": {
            "tags": [],
            "needs_background": "light"
          }
        }
      ]
    },
    {
      "cell_type": "markdown",
      "metadata": {
        "id": "8nwhIGQRzWD1"
      },
      "source": [
        "#### There is Correlation in between Mom_weight ,Gender & Mom_weight with Birth_weight"
      ]
    },
    {
      "cell_type": "code",
      "metadata": {
        "id": "naWuWVMAz7xK"
      },
      "source": [
        "x = dff2[['Mom_Age','Mom_height','Mom_weight']]\r\n",
        "y = dff2[['Birth_Weight']]"
      ],
      "execution_count": null,
      "outputs": []
    },
    {
      "cell_type": "code",
      "metadata": {
        "colab": {
          "base_uri": "https://localhost:8080/"
        },
        "id": "5jIhf993z5OK",
        "outputId": "6d6888d0-48aa-4f83-aba5-6af0db51a3a4"
      },
      "source": [
        "from sklearn.model_selection import train_test_split\r\n",
        "X_tr,X_ts,y_tr,y_ts = train_test_split(x,y,test_size = 0.2,random_state=42)\r\n",
        "print(\"Train Data shape \",X_tr.shape)\r\n",
        "print(\"Test Data shape \",X_ts.shape)"
      ],
      "execution_count": null,
      "outputs": [
        {
          "output_type": "stream",
          "text": [
            "Train Data shape  (151, 3)\n",
            "Test Data shape  (38, 3)\n"
          ],
          "name": "stdout"
        }
      ]
    },
    {
      "cell_type": "code",
      "metadata": {
        "colab": {
          "base_uri": "https://localhost:8080/"
        },
        "id": "K1AlkuIu1n3-",
        "outputId": "421b3dce-da3c-4e1f-c0b4-f5ef2e8dc2bd"
      },
      "source": [
        "from sklearn.preprocessing import MinMaxScaler\r\n",
        "min_max = MinMaxScaler()\r\n",
        "X_tr = min_max.fit_transform(X_tr)\r\n",
        "X_ts = min_max.transform(X_ts)\r\n",
        "print(X_tr.shape)\r\n",
        "print(X_ts.shape)"
      ],
      "execution_count": null,
      "outputs": [
        {
          "output_type": "stream",
          "text": [
            "(151, 3)\n",
            "(38, 3)\n"
          ],
          "name": "stdout"
        }
      ]
    },
    {
      "cell_type": "code",
      "metadata": {
        "colab": {
          "base_uri": "https://localhost:8080/"
        },
        "id": "pxGakQWx2jst",
        "outputId": "e0bd890f-acab-4a34-e659-79767c7018af"
      },
      "source": [
        "from sklearn.metrics import mean_squared_error,r2_score\r\n",
        "from sklearn.linear_model import LinearRegression\r\n",
        "lr = LinearRegression()\r\n",
        "lr.fit(X_tr,y_tr)\r\n",
        "\r\n",
        "y_pred = lr.predict(X_ts)\r\n",
        "\r\n",
        "print(\"r2 score on test data is --> \",r2_score(y_ts,y_pred))\r\n",
        "\r\n"
      ],
      "execution_count": null,
      "outputs": [
        {
          "output_type": "stream",
          "text": [
            "r2 score on test data is -->  0.712712261890031\n"
          ],
          "name": "stdout"
        }
      ]
    },
    {
      "cell_type": "markdown",
      "metadata": {
        "id": "6rYh-IvG4XHh"
      },
      "source": [
        "#### HERE MODEL SHOWING R2_ SCORE 71% WHICH IS GOOD WITH RESPECT TO MODEL PERFORMANCE"
      ]
    }
  ]
}